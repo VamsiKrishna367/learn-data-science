{
    "cells": [
        {
            "cell_type": "markdown",
            "metadata": {},
            "source": [
                "# \ud83d\udc3c Pandas Basics\n",
                "Welcome to the **Pandas Basics** notebook! In this notebook, we will cover:\n",
                "- Creating DataFrames and Series\n",
                "- Reading and Writing Data\n",
                "- Data Manipulation\n",
                "- Handling Missing Values"
            ]
        },
        {
            "cell_type": "markdown",
            "metadata": {},
            "source": [
                "## \ud83d\udccc 1. Importing Pandas"
            ]
        },
        {
            "cell_type": "code",
            "execution_count": null,
            "metadata": {},
            "outputs": [],
            "source": [
                "import pandas as pd\n",
                "print(\"Pandas imported successfully!\")"
            ]
        },
        {
            "cell_type": "markdown",
            "metadata": {},
            "source": [
                "## \ud83d\udccc 2. Creating DataFrames and Series"
            ]
        },
        {
            "cell_type": "code",
            "execution_count": null,
            "metadata": {},
            "outputs": [],
            "source": [
                "# Creating a Series\n",
                "s = pd.Series([10, 20, 30, 40, 50], name='Numbers')\n",
                "print(s)"
            ]
        },
        {
            "cell_type": "code",
            "execution_count": null,
            "metadata": {},
            "outputs": [],
            "source": [
                "# Creating a DataFrame\n",
                "data = {'Name': ['Alice', 'Bob', 'Charlie'], 'Age': [25, 30, 35]}\n",
                "df = pd.DataFrame(data)\n",
                "print(df)"
            ]
        },
        {
            "cell_type": "markdown",
            "metadata": {},
            "source": [
                "## \ud83d\udccc 3. Reading and Writing Data"
            ]
        },
        {
            "cell_type": "code",
            "execution_count": null,
            "metadata": {},
            "outputs": [],
            "source": [
                "# Reading from a CSV file\n",
                "# df = pd.read_csv('data.csv')  # Uncomment if you have a CSV file\n",
                "\n",
                "# Writing to a CSV file\n",
                "df.to_csv('output.csv', index=False)"
            ]
        },
        {
            "cell_type": "markdown",
            "metadata": {},
            "source": [
                "## \ud83d\udccc 4. Data Manipulation"
            ]
        },
        {
            "cell_type": "code",
            "execution_count": null,
            "metadata": {},
            "outputs": [],
            "source": [
                "# Adding a new column\n",
                "df['Salary'] = [50000, 60000, 70000]\n",
                "print(df)"
            ]
        },
        {
            "cell_type": "code",
            "execution_count": null,
            "metadata": {},
            "outputs": [],
            "source": [
                "# Filtering data\n",
                "filtered_df = df[df['Age'] > 28]\n",
                "print(filtered_df)"
            ]
        },
        {
            "cell_type": "markdown",
            "metadata": {},
            "source": [
                "## \ud83d\udccc 5. Handling Missing Values"
            ]
        },
        {
            "cell_type": "code",
            "execution_count": null,
            "metadata": {},
            "outputs": [],
            "source": [
                "# Handling missing values\n",
                "df.loc[1, 'Age'] = None  # Introducing a missing value\n",
                "print(\"Before handling missing values:\\n\", df)\n",
                "\n",
                "# Fill missing values with the mean\n",
                "df['Age'].fillna(df['Age'].mean(), inplace=True)\n",
                "print(\"After handling missing values:\\n\", df)"
            ]
        }
    ],
    "metadata": {
        "kernelspec": {
            "display_name": "Python 3",
            "language": "python",
            "name": "python3"
        },
        "language_info": {
            "codemirror_mode": {
                "name": "ipython",
                "version": 3
            },
            "file_extension": ".py",
            "mimetype": "text/x-python",
            "name": "python",
            "nbconvert_exporter": "python",
            "pygments_lexer": "ipython3",
            "version": "3.8.10"
        }
    },
    "nbformat": 4,
    "nbformat_minor": 4
}