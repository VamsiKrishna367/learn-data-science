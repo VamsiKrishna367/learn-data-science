{
    "cells": [
        {
            "cell_type": "markdown",
            "metadata": {},
            "source": [
                "# \ud83d\udcca Data Visualization\n",
                "Welcome to the **Data Visualization** notebook! In this notebook, we will cover:\n",
                "- Plotting with Matplotlib\n",
                "- Creating advanced visualizations with Seaborn\n",
                "- Customizing plots\n",
                "- Saving plots as images"
            ]
        },
        {
            "cell_type": "markdown",
            "metadata": {},
            "source": [
                "## \ud83d\udccc 1. Importing Libraries"
            ]
        },
        {
            "cell_type": "code",
            "execution_count": null,
            "metadata": {},
            "outputs": [],
            "source": [
                "import matplotlib.pyplot as plt\n",
                "import seaborn as sns\n",
                "import numpy as np\n",
                "import pandas as pd\n",
                "print(\"Libraries imported successfully!\")"
            ]
        },
        {
            "cell_type": "markdown",
            "metadata": {},
            "source": [
                "## \ud83d\udccc 2. Basic Plot with Matplotlib"
            ]
        },
        {
            "cell_type": "code",
            "execution_count": null,
            "metadata": {},
            "outputs": [],
            "source": [
                "# Simple line plot\n",
                "x = np.linspace(0, 10, 100)\n",
                "y = np.sin(x)\n",
                "\n",
                "plt.plot(x, y, label='sin(x)', color='blue')\n",
                "plt.xlabel('X-axis')\n",
                "plt.ylabel('Y-axis')\n",
                "plt.title('Simple Line Plot')\n",
                "plt.legend()\n",
                "plt.show()"
            ]
        },
        {
            "cell_type": "markdown",
            "metadata": {},
            "source": [
                "## \ud83d\udccc 3. Bar Chart with Matplotlib"
            ]
        },
        {
            "cell_type": "code",
            "execution_count": null,
            "metadata": {},
            "outputs": [],
            "source": [
                "# Bar chart example\n",
                "categories = ['A', 'B', 'C', 'D']\n",
                "values = [10, 20, 15, 25]\n",
                "\n",
                "plt.bar(categories, values, color=['red', 'green', 'blue', 'purple'])\n",
                "plt.xlabel('Categories')\n",
                "plt.ylabel('Values')\n",
                "plt.title('Bar Chart Example')\n",
                "plt.show()"
            ]
        },
        {
            "cell_type": "markdown",
            "metadata": {},
            "source": [
                "## \ud83d\udccc 4. Scatter Plot with Seaborn"
            ]
        },
        {
            "cell_type": "code",
            "execution_count": null,
            "metadata": {},
            "outputs": [],
            "source": [
                "# Scatter plot example\n",
                "df = pd.DataFrame({'x': np.random.rand(50), 'y': np.random.rand(50), 'category': np.random.choice(['A', 'B'], 50)})\n",
                "sns.scatterplot(x='x', y='y', hue='category', data=df, palette='coolwarm')\n",
                "plt.title('Seaborn Scatter Plot')\n",
                "plt.show()"
            ]
        },
        {
            "cell_type": "markdown",
            "metadata": {},
            "source": [
                "## \ud83d\udccc 5. Histogram with Seaborn"
            ]
        },
        {
            "cell_type": "code",
            "execution_count": null,
            "metadata": {},
            "outputs": [],
            "source": [
                "# Histogram example\n",
                "data = np.random.randn(1000)\n",
                "sns.histplot(data, bins=30, kde=True, color='purple')\n",
                "plt.title('Seaborn Histogram')\n",
                "plt.show()"
            ]
        },
        {
            "cell_type": "markdown",
            "metadata": {},
            "source": [
                "## \ud83d\udccc 6. Saving the Plot"
            ]
        },
        {
            "cell_type": "code",
            "execution_count": null,
            "metadata": {},
            "outputs": [],
            "source": [
                "# Saving a plot as an image\n",
                "plt.figure(figsize=(6,4))\n",
                "plt.plot(x, y, label='sin(x)', color='blue')\n",
                "plt.xlabel('X-axis')\n",
                "plt.ylabel('Y-axis')\n",
                "plt.title('Saved Line Plot')\n",
                "plt.legend()\n",
                "plt.savefig('line_plot.png')\n",
                "plt.show()"
            ]
        }
    ],
    "metadata": {
        "kernelspec": {
            "display_name": "Python 3",
            "language": "python",
            "name": "python3"
        },
        "language_info": {
            "codemirror_mode": {
                "name": "ipython",
                "version": 3
            },
            "file_extension": ".py",
            "mimetype": "text/x-python",
            "name": "python",
            "nbconvert_exporter": "python",
            "pygments_lexer": "ipython3",
            "version": "3.8.10"
        }
    },
    "nbformat": 4,
    "nbformat_minor": 4
}