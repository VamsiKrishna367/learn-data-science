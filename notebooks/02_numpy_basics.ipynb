{
    "cells": [
        {
            "cell_type": "markdown",
            "metadata": {},
            "source": [
                "# \ud83d\udd22 NumPy Basics\n",
                "Welcome to the **NumPy Basics** notebook! In this notebook, we will cover:\n",
                "- Creating NumPy arrays\n",
                "- Array operations\n",
                "- Indexing and slicing\n",
                "- Useful functions in NumPy"
            ]
        },
        {
            "cell_type": "markdown",
            "metadata": {},
            "source": [
                "## \ud83d\udccc 1. Importing NumPy"
            ]
        },
        {
            "cell_type": "code",
            "execution_count": null,
            "metadata": {},
            "outputs": [],
            "source": [
                "import numpy as np\n",
                "print(\"NumPy imported successfully!\")"
            ]
        },
        {
            "cell_type": "markdown",
            "metadata": {},
            "source": [
                "## \ud83d\udccc 2. Creating Arrays"
            ]
        },
        {
            "cell_type": "code",
            "execution_count": null,
            "metadata": {},
            "outputs": [],
            "source": [
                "# Creating different types of arrays\n",
                "a = np.array([1, 2, 3, 4, 5])  # 1D array\n",
                "b = np.array([[1, 2, 3], [4, 5, 6]])  # 2D array\n",
                "c = np.zeros((3, 3))  # 3x3 zero matrix\n",
                "d = np.ones((2, 2))  # 2x2 ones matrix\n",
                "print(a, \"\\n\\n\", b, \"\\n\\n\", c, \"\\n\\n\", d)"
            ]
        },
        {
            "cell_type": "markdown",
            "metadata": {},
            "source": [
                "## \ud83d\udccc 3. Array Operations"
            ]
        },
        {
            "cell_type": "code",
            "execution_count": null,
            "metadata": {},
            "outputs": [],
            "source": [
                "# Basic operations on NumPy arrays\n",
                "x = np.array([10, 20, 30, 40])\n",
                "y = np.array([1, 2, 3, 4])\n",
                "\n",
                "print(\"Addition:\", x + y)\n",
                "print(\"Subtraction:\", x - y)\n",
                "print(\"Multiplication:\", x * y)\n",
                "print(\"Division:\", x / y)"
            ]
        },
        {
            "cell_type": "markdown",
            "metadata": {},
            "source": [
                "## \ud83d\udccc 4. Indexing and Slicing"
            ]
        },
        {
            "cell_type": "code",
            "execution_count": null,
            "metadata": {},
            "outputs": [],
            "source": [
                "# Accessing elements and slicing arrays\n",
                "arr = np.array([10, 20, 30, 40, 50])\n",
                "print(\"First element:\", arr[0])\n",
                "print(\"Last element:\", arr[-1])\n",
                "print(\"Slice (2nd to 4th element):\", arr[1:4])"
            ]
        },
        {
            "cell_type": "markdown",
            "metadata": {},
            "source": [
                "## \ud83d\udccc 5. Useful NumPy Functions"
            ]
        },
        {
            "cell_type": "code",
            "execution_count": null,
            "metadata": {},
            "outputs": [],
            "source": [
                "# Some useful functions in NumPy\n",
                "arr = np.array([5, 10, 15, 20, 25])\n",
                "print(\"Mean:\", np.mean(arr))\n",
                "print(\"Max:\", np.max(arr))\n",
                "print(\"Min:\", np.min(arr))\n",
                "print(\"Sum:\", np.sum(arr))\n",
                "print(\"Standard Deviation:\", np.std(arr))"
            ]
        }
    ],
    "metadata": {
        "kernelspec": {
            "display_name": "Python 3",
            "language": "python",
            "name": "python3"
        },
        "language_info": {
            "codemirror_mode": {
                "name": "ipython",
                "version": 3
            },
            "file_extension": ".py",
            "mimetype": "text/x-python",
            "name": "python",
            "nbconvert_exporter": "python",
            "pygments_lexer": "ipython3",
            "version": "3.8.10"
        }
    },
    "nbformat": 4,
    "nbformat_minor": 4
}