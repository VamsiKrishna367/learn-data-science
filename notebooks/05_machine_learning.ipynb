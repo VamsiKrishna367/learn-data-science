{
    "cells": [
        {
            "cell_type": "markdown",
            "metadata": {},
            "source": [
                "# \ud83e\udd16 Machine Learning Basics\n",
                "Welcome to the **Machine Learning** notebook! In this notebook, we will cover:\n",
                "- Introduction to Machine Learning\n",
                "- Supervised vs Unsupervised Learning\n",
                "- Training a simple model with Scikit-Learn\n",
                "- Evaluating model performance"
            ]
        },
        {
            "cell_type": "markdown",
            "metadata": {},
            "source": [
                "## \ud83d\udccc 1. Importing Libraries"
            ]
        },
        {
            "cell_type": "code",
            "execution_count": null,
            "metadata": {},
            "outputs": [],
            "source": [
                "import numpy as np\n",
                "import pandas as pd\n",
                "from sklearn.model_selection import train_test_split\n",
                "from sklearn.linear_model import LinearRegression\n",
                "from sklearn.metrics import mean_squared_error\n",
                "print(\"Libraries imported successfully!\")"
            ]
        },
        {
            "cell_type": "markdown",
            "metadata": {},
            "source": [
                "## \ud83d\udccc 2. Load Sample Dataset"
            ]
        },
        {
            "cell_type": "code",
            "execution_count": null,
            "metadata": {},
            "outputs": [],
            "source": [
                "# Generate synthetic dataset\n",
                "np.random.seed(42)\n",
                "X = np.random.rand(100, 1) * 10\n",
                "y = 2.5 * X + np.random.randn(100, 1) * 2\n",
                "\n",
                "# Convert to DataFrame\n",
                "df = pd.DataFrame(np.hstack((X, y)), columns=['Feature', 'Target'])\n",
                "df.head()"
            ]
        },
        {
            "cell_type": "markdown",
            "metadata": {},
            "source": [
                "## \ud83d\udccc 3. Split Data into Training & Testing Sets"
            ]
        },
        {
            "cell_type": "code",
            "execution_count": null,
            "metadata": {},
            "outputs": [],
            "source": [
                "X_train, X_test, y_train, y_test = train_test_split(X, y, test_size=0.2, random_state=42)\n",
                "print(f'Training Set: {X_train.shape}, Testing Set: {X_test.shape}')"
            ]
        },
        {
            "cell_type": "markdown",
            "metadata": {},
            "source": [
                "## \ud83d\udccc 4. Train a Linear Regression Model"
            ]
        },
        {
            "cell_type": "code",
            "execution_count": null,
            "metadata": {},
            "outputs": [],
            "source": [
                "model = LinearRegression()\n",
                "model.fit(X_train, y_train)\n",
                "print(f'Model Coefficients: {model.coef_}, Intercept: {model.intercept_}')"
            ]
        },
        {
            "cell_type": "markdown",
            "metadata": {},
            "source": [
                "## \ud83d\udccc 5. Make Predictions & Evaluate Model"
            ]
        },
        {
            "cell_type": "code",
            "execution_count": null,
            "metadata": {},
            "outputs": [],
            "source": [
                "y_pred = model.predict(X_test)\n",
                "mse = mean_squared_error(y_test, y_pred)\n",
                "print(f'Mean Squared Error: {mse:.4f}')"
            ]
        },
        {
            "cell_type": "markdown",
            "metadata": {},
            "source": [
                "## \u2705 Conclusion\n",
                "We successfully trained a simple linear regression model! \ud83d\ude80"
            ]
        }
    ],
    "metadata": {
        "kernelspec": {
            "display_name": "Python 3",
            "language": "python",
            "name": "python3"
        },
        "language_info": {
            "codemirror_mode": {
                "name": "ipython",
                "version": 3
            },
            "file_extension": ".py",
            "mimetype": "text/x-python",
            "name": "python",
            "nbconvert_exporter": "python",
            "pygments_lexer": "ipython3",
            "version": "3.8.10"
        }
    },
    "nbformat": 4,
    "nbformat_minor": 4
}