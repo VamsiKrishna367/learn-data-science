{
    "cells": [
        {
            "cell_type": "markdown",
            "metadata": {},
            "source": [
                "# \ud83d\udc0d Introduction to Python\n",
                "Welcome to your first Python notebook! This notebook covers:\n",
                "- Basic syntax\n",
                "- Variables & data types\n",
                "- Control structures\n",
                "- Functions\n",
                "- Basic input/output"
            ]
        },
        {
            "cell_type": "markdown",
            "metadata": {},
            "source": [
                "## \ud83d\udcdd 1. Printing and Comments"
            ]
        },
        {
            "cell_type": "code",
            "execution_count": null,
            "metadata": {},
            "outputs": [],
            "source": [
                "# This is a comment\n",
                "print(\"Hello, World!\")  # Prints a message"
            ]
        },
        {
            "cell_type": "markdown",
            "metadata": {},
            "source": [
                "## \ud83d\udd22 2. Variables and Data Types"
            ]
        },
        {
            "cell_type": "code",
            "execution_count": null,
            "metadata": {},
            "outputs": [],
            "source": [
                "x = 10  # Integer\n",
                "y = 3.14  # Float\n",
                "name = \"Alice\"  # String\n",
                "is_active = True  # Boolean\n",
                "print(x, y, name, is_active)"
            ]
        },
        {
            "cell_type": "markdown",
            "metadata": {},
            "source": [
                "## \ud83d\udd04 3. Conditional Statements"
            ]
        },
        {
            "cell_type": "code",
            "execution_count": null,
            "metadata": {},
            "outputs": [],
            "source": [
                "age = 18\n",
                "if age >= 18:\n",
                "    print(\"You are an adult.\")\n",
                "else:\n",
                "    print(\"You are a minor.\")"
            ]
        },
        {
            "cell_type": "markdown",
            "metadata": {},
            "source": [
                "## \ud83d\udd01 4. Loops"
            ]
        },
        {
            "cell_type": "code",
            "execution_count": null,
            "metadata": {},
            "outputs": [],
            "source": [
                "# For loop\n",
                "for i in range(5):\n",
                "    print(\"Iteration:\", i)"
            ]
        },
        {
            "cell_type": "markdown",
            "metadata": {},
            "source": [
                "## \ud83d\udd27 5. Functions"
            ]
        },
        {
            "cell_type": "code",
            "execution_count": null,
            "metadata": {},
            "outputs": [],
            "source": [
                "def greet(name):\n",
                "    return \"Hello, \" + name + \"!\"\n",
                "\n",
                "print(greet(\"Alice\"))"
            ]
        },
        {
            "cell_type": "markdown",
            "metadata": {},
            "source": [
                "## \u2328\ufe0f 6. User Input"
            ]
        },
        {
            "cell_type": "code",
            "execution_count": null,
            "metadata": {},
            "outputs": [],
            "source": [
                "# Uncomment the below lines to run in an interactive environment\n",
                "# name = input(\"Enter your name: \")\n",
                "# print(\"Welcome, \" + name + \"!\")"
            ]
        }
    ],
    "metadata": {
        "kernelspec": {
            "display_name": "Python 3",
            "language": "python",
            "name": "python3"
        },
        "language_info": {
            "codemirror_mode": {
                "name": "ipython",
                "version": 3
            },
            "file_extension": ".py",
            "mimetype": "text/x-python",
            "name": "python",
            "nbconvert_exporter": "python",
            "pygments_lexer": "ipython3",
            "version": "3.8.10"
        }
    },
    "nbformat": 4,
    "nbformat_minor": 4
}