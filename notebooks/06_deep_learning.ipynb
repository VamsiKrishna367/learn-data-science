{
    "cells": [
        {
            "cell_type": "markdown",
            "metadata": {},
            "source": [
                "# \ud83e\udde0 Deep Learning Basics\n",
                "Welcome to the **Deep Learning** notebook! In this notebook, we will cover:\n",
                "- Introduction to Deep Learning\n",
                "- Neural Networks and their architecture\n",
                "- Building a simple neural network with TensorFlow & Keras\n",
                "- Training and evaluating the model"
            ]
        },
        {
            "cell_type": "markdown",
            "metadata": {},
            "source": [
                "## \ud83d\udccc 1. Importing Libraries"
            ]
        },
        {
            "cell_type": "code",
            "execution_count": null,
            "metadata": {},
            "outputs": [],
            "source": [
                "import tensorflow as tf\n",
                "from tensorflow import keras\n",
                "import numpy as np\n",
                "import matplotlib.pyplot as plt\n",
                "print(\"TensorFlow version:\", tf.__version__)"
            ]
        },
        {
            "cell_type": "markdown",
            "metadata": {},
            "source": [
                "## \ud83d\udccc 2. Load and Prepare Dataset (MNIST)"
            ]
        },
        {
            "cell_type": "code",
            "execution_count": null,
            "metadata": {},
            "outputs": [],
            "source": [
                "# Load MNIST dataset\n",
                "(X_train, y_train), (X_test, y_test) = keras.datasets.mnist.load_data()\n",
                "\n",
                "# Normalize pixel values\n",
                "X_train, X_test = X_train / 255.0, X_test / 255.0\n",
                "print(\"Dataset loaded and normalized!\")"
            ]
        },
        {
            "cell_type": "markdown",
            "metadata": {},
            "source": [
                "## \ud83d\udccc 3. Define Neural Network Model"
            ]
        },
        {
            "cell_type": "code",
            "execution_count": null,
            "metadata": {},
            "outputs": [],
            "source": [
                "model = keras.Sequential([\n",
                "    keras.layers.Flatten(input_shape=(28, 28)),\n",
                "    keras.layers.Dense(128, activation='relu'),\n",
                "    keras.layers.Dense(10, activation='softmax')\n",
                "])\n",
                "\n",
                "model.compile(optimizer='adam', loss='sparse_categorical_crossentropy', metrics=['accuracy'])\n",
                "print(\"Model defined successfully!\")"
            ]
        },
        {
            "cell_type": "markdown",
            "metadata": {},
            "source": [
                "## \ud83d\udccc 4. Train the Model"
            ]
        },
        {
            "cell_type": "code",
            "execution_count": null,
            "metadata": {},
            "outputs": [],
            "source": [
                "history = model.fit(X_train, y_train, epochs=5, validation_data=(X_test, y_test))"
            ]
        },
        {
            "cell_type": "markdown",
            "metadata": {},
            "source": [
                "## \ud83d\udccc 5. Evaluate the Model"
            ]
        },
        {
            "cell_type": "code",
            "execution_count": null,
            "metadata": {},
            "outputs": [],
            "source": [
                "test_loss, test_acc = model.evaluate(X_test, y_test, verbose=2)\n",
                "print(f'Accuracy on test data: {test_acc:.4f}')"
            ]
        },
        {
            "cell_type": "markdown",
            "metadata": {},
            "source": [
                "## \u2705 Conclusion\n",
                "We successfully trained a simple neural network using TensorFlow! \ud83d\ude80"
            ]
        }
    ],
    "metadata": {
        "kernelspec": {
            "display_name": "Python 3",
            "language": "python",
            "name": "python3"
        },
        "language_info": {
            "codemirror_mode": {
                "name": "ipython",
                "version": 3
            },
            "file_extension": ".py",
            "mimetype": "text/x-python",
            "name": "python",
            "nbconvert_exporter": "python",
            "pygments_lexer": "ipython3",
            "version": "3.8.10"
        }
    },
    "nbformat": 4,
    "nbformat_minor": 4
}